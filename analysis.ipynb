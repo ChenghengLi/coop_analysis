{
 "cells": [
  {
   "cell_type": "code",
   "execution_count": 294,
   "metadata": {},
   "outputs": [],
   "source": [
    "import csv\n",
    "\n",
    "def read_csv(filename):\n",
    "    with open(filename, 'r') as f:\n",
    "        reader = csv.DictReader(f)\n",
    "        rows = [row for row in reader]\n",
    "    return rows\n",
    "\n",
    "\n",
    "rooms = read_csv('data/Public Bump - Rooms.csv')\n",
    "bumpers = read_csv('data/Public Bump - Bumpers.csv')\n",
    "t = read_csv('data/Public Bump - Time slots.csv')\n"
   ]
  },
  {
   "cell_type": "code",
   "execution_count": 295,
   "metadata": {},
   "outputs": [],
   "source": [
    "d_gender = { \"M\": 1, \"F\": 2}\n",
    "c = {\"SUITE\": 2, \"SINGLE\": 1, \"DOUBLE\":2, \"TRIPLE\": 3, \"QUAD\": 4}\n",
    "\n",
    "\n",
    "# AJUSTAR LA PUNTAUCION DE LAS HABITACIONES A LA IDEAL\n",
    "d_p = {\"SUITE\": 49, \"SINGLE\": 50, \"DOUBLE\": 22, \"TRIPLE\": 10, \"QUAD\": 1}\n",
    "\n",
    "class Room:\n",
    "    \n",
    "    id = 0\n",
    "    tipo = ''\n",
    "    genero = 0  # 1 (Male), 2 (Female), 3 (Mixed)\n",
    "    inquilinos = []\n",
    "    capacidad = 0\n",
    "    preferencias = []\n",
    "    p = 0\n",
    "\n",
    "    def __init__(self, id, tipo, capacidad):\n",
    "        self.inquilinos = list()\n",
    "        self.id = id\n",
    "        self.tipo = tipo\n",
    "        self.capacidad = capacidad\n",
    "        self.p = d_p[tipo]\n",
    "    \n",
    "    def lleno(self):\n",
    "        return self.capacidad == len(self.inquilinos)\n",
    "    \n",
    "    def espacio(self):\n",
    "        return self.capacidad - len(self.inquilinos)\n",
    "    \n",
    "    def add_inquilino(self, inquilino):\n",
    "        if self.lleno():\n",
    "            return False\n",
    "        self.inquilinos.append(inquilino)\n",
    "        self.p = self.p/2\n",
    "        if(self.lleno()):\n",
    "            self.p = 0\n",
    "        return True\n",
    "    \n",
    "    def set_genero(self, genero):\n",
    "        g = d_gender[genero]\n",
    "        if self.genero == 0:\n",
    "            self.genero = g\n",
    "        elif self.genero != g:\n",
    "            self.genero = 3\n",
    "\n",
    "    def toString(self):\n",
    "        return f'[POINTS: {self.p}] Room {self.id} - {self.tipo} - {self.genero} - {self.espacio()} / {self.capacidad} '\n",
    "    \n",
    "    def __lt__(self, other):\n",
    "        return self.p > other.p\n",
    "    \n",
    "\n",
    "    \n",
    "class Bumper:\n",
    "    id = 0\n",
    "    seniority = 0\n",
    "\n",
    "    def __init__(self, id, s):\n",
    "        self.id = id\n",
    "        self.seniority = s\n"
   ]
  },
  {
   "cell_type": "code",
   "execution_count": 296,
   "metadata": {},
   "outputs": [],
   "source": [
    "estado = { \"AVAILABLE\": True, \"TAKEN\": False }\n",
    "all_rooms = dict()\n",
    "\n",
    "for room in rooms:\n",
    "    id = room['Room']\n",
    "    tipo = room['Room Type']\n",
    "    gender = room['Gender']\n",
    "    dn = room['Deposit Number']\n",
    "    capacity = c[tipo]\n",
    "\n",
    "    if(id in all_rooms):\n",
    "        if dn == \"\":\n",
    "            continue\n",
    "        dn = int(dn)\n",
    "        all_rooms[id].add_inquilino(dn)\n",
    "        all_rooms[id].set_genero(gender)\n",
    "\n",
    "    else:\n",
    "        all_rooms[id] = Room(id, tipo, capacity)\n",
    "        if dn != \"\":\n",
    "            dn = int(dn)\n",
    "            all_rooms[id].add_inquilino(dn)\n",
    "            all_rooms[id].set_genero(gender)\n",
    "\n",
    "\n",
    "\n",
    "\n",
    "\n",
    "#sorted_tuples = sorted(all_rooms.items(), key=lambda x: getattr(x[1], 'p'), reverse=True)\n",
    "#sorted_dict = dict(sorted_tuples)\n",
    "\n",
    "\n",
    "#for room in sorted_dict.values():\n",
    "#    print(room.toString())\n",
    "\n"
   ]
  },
  {
   "cell_type": "code",
   "execution_count": 297,
   "metadata": {},
   "outputs": [],
   "source": [
    "coopers = list()\n",
    "for bumper in bumpers:\n",
    "    id = bumper['Deposit Number']\n",
    "    s = bumper['Seniority']\n",
    "    if s == \"\":\n",
    "        s = 0\n",
    "    s = int(s)\n",
    "    coopers.append(Bumper(id, s))\n",
    "\n",
    "#for bumper in coopers:\n",
    "#    print(f'Bumper {bumper.id} - {bumper.seniority}')"
   ]
  },
  {
   "cell_type": "code",
   "execution_count": 298,
   "metadata": {},
   "outputs": [],
   "source": [
    "d_times = dict()\n",
    "for time in t:\n",
    "    d_times[time['Deposit Number/Group Number']] = time['Time']\n"
   ]
  },
  {
   "cell_type": "code",
   "execution_count": 299,
   "metadata": {},
   "outputs": [],
   "source": [
    "class HHH:\n",
    "    floor = 0\n",
    "    rooms = []\n",
    "    def __init__(self, floor):\n",
    "        self.floor = floor\n",
    "        self.rooms = list()\n",
    "\n",
    "    def toString(self):\n",
    "        return [ x.id for x in self.rooms]\n",
    "    \n",
    "\n",
    "\n",
    "floors = list()\n",
    "\n",
    "for i in range(1, 8):\n",
    "    floors.append(HHH(i))\n",
    "\n",
    "for room in all_rooms:\n",
    "    id = 0\n",
    "    try:\n",
    "        id = int(room)\n",
    "    except:\n",
    "        continue\n",
    "    floor = int(id/100)\n",
    "    floors[floor-1].rooms.append(all_rooms[room])\n",
    "\n",
    "\n",
    "for floor in floors:\n",
    "    floor.rooms.sort(key=lambda x: x.id)\n",
    "\n"
   ]
  },
  {
   "cell_type": "code",
   "execution_count": 300,
   "metadata": {},
   "outputs": [],
   "source": [
    "floor = 2\n",
    "d_gen = {0: \"UNDEFINED\" ,1: \"MALE\", 2: \"FEMALE\", 3: \"MIXED\"}\n",
    "def print_floor(floor):\n",
    "    s = \"\"\n",
    "    for i in floors[floor].rooms:\n",
    "        id_str = f'Room {i.id}'.ljust(10)\n",
    "        tipo_str = f'TYPE: {i.tipo}'.ljust(15)\n",
    "        genero_str = f'GENDER: {d_gen[i.genero]}'.ljust(20)\n",
    "        espacio_str = f'SPACES AVAILABLES: {i.espacio()} / {i.capacidad}'.ljust(30)\n",
    "        s += (id_str + tipo_str + genero_str + espacio_str + \"\\n\")\n",
    "    return s"
   ]
  },
  {
   "cell_type": "code",
   "execution_count": 301,
   "metadata": {},
   "outputs": [],
   "source": [
    "s = \"\"\n",
    "for i in range(1, 8):\n",
    "    s += f'FLOOR {i}\\n'\n",
    "    s+='-----------------------------------------------------------------------------------\\n'\n",
    "    s+=(print_floor(i-1))\n",
    "    s+=('-----------------------------------------------------------------------------------\\n')\n",
    "\n",
    "with open('output/HHH.txt', 'w') as f:\n",
    "    # Write some text to the file\n",
    "    f.write(s)\n"
   ]
  },
  {
   "cell_type": "code",
   "execution_count": 302,
   "metadata": {},
   "outputs": [],
   "source": [
    "from queue import PriorityQueue\n",
    "\n",
    "priority_queue = PriorityQueue()\n",
    "\n",
    "for room in all_rooms.values():\n",
    "    priority_queue.put((-room.p, room))\n",
    "\n"
   ]
  },
  {
   "cell_type": "code",
   "execution_count": 303,
   "metadata": {},
   "outputs": [
    {
     "name": "stderr",
     "output_type": "stream",
     "text": [
      "100%|██████████| 228/228 [00:00<00:00, 113764.13it/s]\n"
     ]
    }
   ],
   "source": [
    "results = dict()\n",
    "from tqdm import tqdm\n",
    "\n",
    "s = \"\"\n",
    "for cooper in tqdm(coopers):\n",
    "    a_room = priority_queue.get()[1]\n",
    "    s += a_room.toString() + \"\\n\"\n",
    "    a_room.add_inquilino(cooper.id)\n",
    "    priority_queue.put((-a_room.p, a_room))\n",
    "    results[cooper.id] = a_room\n",
    "\n",
    "    \n"
   ]
  },
  {
   "cell_type": "code",
   "execution_count": 304,
   "metadata": {},
   "outputs": [],
   "source": [
    "with open('output/result.txt', 'w') as f:\n",
    "    # Write some text to the file\n",
    "    for i in results:\n",
    "        f.write(f'{i} - {results[i].toString()}\\n ')\n",
    "\n",
    "\n",
    "with open('output/orden.txt', 'w') as f:\n",
    "    # Write some text to the file\n",
    "    for i in results:\n",
    "        f.write(s)\n",
    "\n",
    "with open('output/rooms.txt', 'w') as f:\n",
    "    # Write some text to the file\n",
    "    sorted_tuples = sorted(all_rooms.items(), key=lambda x: getattr(x[1], 'p'), reverse=True)\n",
    "    for i in sorted_tuples:\n",
    "        f.write(f'{i[1].toString()} \\n')\n"
   ]
  },
  {
   "cell_type": "code",
   "execution_count": 305,
   "metadata": {},
   "outputs": [
    {
     "name": "stdout",
     "output_type": "stream",
     "text": [
      "--------------------------------------------------------------------------\n",
      "PREDICTION LAUNCHED FOR 27565 DEPOSIT NUMBER\n",
      "--------------------------------------------------------------------------\n",
      "ROOM TYPE: DOUBLE - WITH 0 OF 2 SPACES AVAILABLES\n",
      "--------------------------------------------------------------------------\n",
      "BUMP TIME: 7:30 PM on 10/17/23\n",
      "--------------------------------------------------------------------------\n",
      "\n"
     ]
    }
   ],
   "source": [
    "DEPOSIT_NUMBER = \"27565\" #CHANGE THIS VALUE\n",
    "\n",
    "print(\"--------------------------------------------------------------------------\")\n",
    "print(\"PREDICTION LAUNCHED FOR \" + str(DEPOSIT_NUMBER) + \" DEPOSIT NUMBER\")\n",
    "print(\"--------------------------------------------------------------------------\")\n",
    "print(f'ROOM TYPE: {results[DEPOSIT_NUMBER].tipo} - WITH {results[DEPOSIT_NUMBER].espacio()} OF {results[DEPOSIT_NUMBER].capacidad} SPACES AVAILABLES')\n",
    "print(\"--------------------------------------------------------------------------\")\n",
    "print(\"BUMP TIME: \" + d_times[DEPOSIT_NUMBER])\n",
    "print(\"--------------------------------------------------------------------------\\n\")\n"
   ]
  },
  {
   "cell_type": "code",
   "execution_count": 306,
   "metadata": {},
   "outputs": [
    {
     "name": "stdout",
     "output_type": "stream",
     "text": [
      "[POINTS: 0] Room 422 - TRIPLE - 2 - 0 / 3 \n"
     ]
    }
   ],
   "source": [
    "print(all_rooms['422'].toString())"
   ]
  },
  {
   "cell_type": "code",
   "execution_count": 307,
   "metadata": {},
   "outputs": [
    {
     "name": "stdout",
     "output_type": "stream",
     "text": [
      "ALL COOPERS: 408\n",
      "BUMPERS: 228\n"
     ]
    }
   ],
   "source": [
    "#Calculate total coopers\n",
    "all_coopers = 0\n",
    "\n",
    "for room in all_rooms.values():\n",
    "    all_coopers += len(room.inquilinos)\n",
    "\n",
    "print(\"ALL COOPERS: \" + str(all_coopers))\n",
    "print(\"BUMPERS: \" + str(len(coopers)))\n",
    "\n",
    "\n"
   ]
  }
 ],
 "metadata": {
  "kernelspec": {
   "display_name": "Python 3",
   "language": "python",
   "name": "python3"
  },
  "language_info": {
   "codemirror_mode": {
    "name": "ipython",
    "version": 3
   },
   "file_extension": ".py",
   "mimetype": "text/x-python",
   "name": "python",
   "nbconvert_exporter": "python",
   "pygments_lexer": "ipython3",
   "version": "3.8.8"
  }
 },
 "nbformat": 4,
 "nbformat_minor": 2
}
